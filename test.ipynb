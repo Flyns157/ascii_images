{
 "cells": [
  {
   "cell_type": "code",
   "execution_count": 36,
   "metadata": {},
   "outputs": [],
   "source": [
    "from PIL import Image, ImageDraw, ImageFont\n",
    "\n",
    "# Function(s)\n",
    "def ascii_to_image(ascii_art : str, outpout_file : str = 'ascii_art.png', text_color : tuple[int,int,int] | str = (100, 255, 100), bg_color : tuple[int,int,int] | str = (0, 0, 0), compression : int = 5, font_file : str = 'font/MonospaceTypewriter.ttf', font_size : float = 1.0)-> bool :\n",
    "    try :\n",
    "        lines = ascii_art.split('\\n')\n",
    "        img = Image.new('RGB', (len(lines[0])*compression,len(lines)*compression), color = text_color)\n",
    "        drawer = ImageDraw.Draw(img)\n",
    "        for y, line in enumerate(lines) :\n",
    "            for x, char in enumerate(line) :\n",
    "                drawer.text((x*compression, y*compression), char, font=ImageFont.truetype(font_file, int(font_size*compression)), fill=text_color)\n",
    "        img.save(outpout_file)\n",
    "    except Exception as e :\n",
    "        e.with_traceback()\n",
    "        print(f'caught {type(e)}: {e}')\n",
    "        return None"
   ]
  },
  {
   "cell_type": "code",
   "execution_count": 37,
   "metadata": {},
   "outputs": [],
   "source": [
    "# Your ASCII Art\n",
    "import imgTOascii\n",
    "input_file = 'images/1.jpg'\n",
    "ascii_art = imgTOascii.image_to_ascii(input_file,False,resize=True,resize_percentage=0.3, nb_space=0,gscale=1)\n",
    "# Generating\n",
    "ascii_to_image(ascii_art)"
   ]
  }
 ],
 "metadata": {
  "kernelspec": {
   "display_name": ".venv",
   "language": "python",
   "name": "python3"
  },
  "language_info": {
   "codemirror_mode": {
    "name": "ipython",
    "version": 3
   },
   "file_extension": ".py",
   "mimetype": "text/x-python",
   "name": "python",
   "nbconvert_exporter": "python",
   "pygments_lexer": "ipython3",
   "version": "3.12.0"
  }
 },
 "nbformat": 4,
 "nbformat_minor": 2
}
