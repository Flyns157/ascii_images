{
 "cells": [
  {
   "cell_type": "code",
   "execution_count": 90,
   "metadata": {},
   "outputs": [],
   "source": [
    "from PIL import Image, ImageDraw, ImageFont\n",
    "import imgTOascii\n",
    "\n",
    "file = 'images/0.png'\n",
    "\n",
    "# Votre ASCII Art\n",
    "ascii_art = imgTOascii.image_to_ascii(file,False,resize=True,resize_percentage=0.5, nb_space=1)\n",
    "\n",
    "size = Image.open(file).size\n",
    "\n",
    "# Création d'une image\n",
    "img = Image.new('RGB', tuple((e*10 for e in size)), color = (0, 0, 0))\n",
    "\n",
    "# Création d'un objet Draw pour dessiner sur l'image\n",
    "d = ImageDraw.Draw(img)\n",
    "\n",
    "# Utilisation d'une police monospace (remplacez \"courier.ttf\" par la police monospace de votre choix)\n",
    "\n",
    "# Dessin de chaque ligne de l'ASCII Art sur l'image\n",
    "lines = ascii_art.split('\\n')\n",
    "for y, line in enumerate(lines) :\n",
    "    for x, char in enumerate(line) :\n",
    "        d.text(((1+x)*10*1, y*10*2), char, font=ImageFont.truetype('font/MonospaceTypewriter.ttf', 15), fill=(100, 255, 100))\n",
    "\n",
    "# Enregistrement de l'image\n",
    "img.save('ascii_art.png')"
   ]
  },
  {
   "cell_type": "code",
   "execution_count": 10,
   "metadata": {},
   "outputs": [],
   "source": [
    "from PIL import Image, ImageDraw, ImageFont\n",
    "import imgTOascii\n",
    "\n",
    "input_file = 'images/0.png'\n",
    "outpout_file = 'ascii_art.png'\n",
    "compression = 2\n",
    "text_color = (100, 255, 100)\n",
    "bg_color = (0, 0, 0)\n",
    "font_file = 'font/MonospaceTypewriter.ttf'\n",
    "resize_percentage = 0.9\n",
    "nb_space = 0\n",
    "\n",
    "# Votre ASCII Art\n",
    "ascii_art = imgTOascii.image_to_ascii(input_file,False,resize=True,resize_percentage=resize_percentage, nb_space=nb_space)\n",
    "\n",
    "size = Image.open(input_file).size\n",
    "\n",
    "# Création d'une image\n",
    "img = Image.new('RGB', tuple((int(e*compression*resize_percentage*(nb_space + 1)) for e in size)), color = bg_color)\n",
    "\n",
    "# Création d'un objet Draw pour dessiner sur l'image\n",
    "d = ImageDraw.Draw(img)\n",
    "\n",
    "# Dessin de chaque ligne de l'ASCII Art sur l'image\n",
    "lines = ascii_art.split('\\n')\n",
    "for y, line in enumerate(lines) :\n",
    "    for x, char in enumerate(line) :\n",
    "        d.text(((1+x)*compression*1, y*compression*2), char, font=ImageFont.truetype(font_file, int(1.5*compression)), fill=text_color)\n",
    "\n",
    "# Enregistrement de l'image\n",
    "img.save(outpout_file)"
   ]
  }
 ],
 "metadata": {
  "kernelspec": {
   "display_name": ".venv",
   "language": "python",
   "name": "python3"
  },
  "language_info": {
   "codemirror_mode": {
    "name": "ipython",
    "version": 3
   },
   "file_extension": ".py",
   "mimetype": "text/x-python",
   "name": "python",
   "nbconvert_exporter": "python",
   "pygments_lexer": "ipython3",
   "version": "3.12.0"
  }
 },
 "nbformat": 4,
 "nbformat_minor": 2
}
